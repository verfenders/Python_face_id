{
  "cells": [
    {
      "cell_type": "markdown",
      "metadata": {
        "id": "YwWhOXGJ_Piv"
      },
      "source": [
        "# Установка зависимостей и загрузка LFW"
      ]
    },
    {
      "cell_type": "code",
      "execution_count": null,
      "metadata": {
        "colab": {
          "base_uri": "https://localhost:8080/"
        },
        "id": "THMUtmEKeVUH",
        "outputId": "6697648a-794e-47ae-dc59-d7e149148d8c"
      },
      "outputs": [
        {
          "output_type": "stream",
          "name": "stdout",
          "text": [
            "Looking in indexes: https://pypi.org/simple, https://us-python.pkg.dev/colab-wheels/public/simple/\n",
            "Requirement already satisfied: face_recognition in /usr/local/lib/python3.7/dist-packages (1.3.0)\n",
            "Requirement already satisfied: Pillow in /usr/local/lib/python3.7/dist-packages (from face_recognition) (7.1.2)\n",
            "Requirement already satisfied: face-recognition-models>=0.3.0 in /usr/local/lib/python3.7/dist-packages (from face_recognition) (0.3.0)\n",
            "Requirement already satisfied: dlib>=19.7 in /usr/local/lib/python3.7/dist-packages (from face_recognition) (19.18.0+zzzcolab20220513001918)\n",
            "Requirement already satisfied: numpy in /usr/local/lib/python3.7/dist-packages (from face_recognition) (1.21.6)\n",
            "Requirement already satisfied: Click>=6.0 in /usr/local/lib/python3.7/dist-packages (from face_recognition) (7.1.2)\n",
            "2.8.2\n",
            "[PhysicalDevice(name='/physical_device:GPU:0', device_type='GPU')]\n"
          ]
        }
      ],
      "source": [
        "%matplotlib inline\n",
        "import matplotlib.pyplot as plt\n",
        "import numpy as np\n",
        "from sklearn.manifold import TSNE\n",
        "import os\n",
        "import tensorflow as tf\n",
        "import tensorflow_datasets as tfds\n",
        "!pip install face_recognition\n",
        "import face_recognition\n",
        "from IPython.display import display, Javascript, Image\n",
        "from google.colab.output import eval_js\n",
        "from base64 import b64decode, b64encode\n",
        "import cv2\n",
        "import numpy as np\n",
        "import PIL\n",
        "import io\n",
        "import html\n",
        "import time\n",
        "\n",
        "print(tf.__version__)\n",
        "print(tf.config.list_physical_devices('GPU'))\n"
      ]
    },
    {
      "cell_type": "markdown",
      "metadata": {
        "id": "QLmoaBbE9RZS"
      },
      "source": [
        "# Загрузка датасета"
      ]
    },
    {
      "cell_type": "code",
      "execution_count": null,
      "metadata": {
        "id": "prZs6BtH9RCl"
      },
      "outputs": [],
      "source": [
        "ds, info= tfds.load('lfw', split=(['train[:75%]','train[75%:]']),shuffle_files=True,\n",
        "    as_supervised=True,with_info=True)\n",
        "\n",
        "\n",
        "\n",
        "info.features['label']"
      ]
    },
    {
      "cell_type": "markdown",
      "metadata": {
        "id": "5PbqVdEW_bJf"
      },
      "source": [
        "# Подготовка тренировочной части датасета"
      ]
    },
    {
      "cell_type": "code",
      "execution_count": null,
      "metadata": {
        "id": "i936p2Qv-7z3"
      },
      "outputs": [],
      "source": [
        "df=tfds.as_dataframe(ds[0],info) \n",
        "dict_label=df['label'].value_counts().reset_index()\n",
        "num_class=dict_label.shape[0]\n",
        "num_class\n",
        "\n",
        "\n",
        "\n",
        "df['class']=0\n",
        "for i in range(0, len(df)):\n",
        "    df.loc[i,'class']=dict_label[dict_label['index']==df['label'][i]].index.values[0]\n",
        "\n",
        "print(info.features.shape)\n",
        "print(info.features.dtype)\n",
        "print(info.features['image'].shape)\n",
        "print(info.features['image'].dtype)\n",
        "\n",
        "train_df=df.copy()\n",
        "test_df=df\n",
        "\n",
        "num_class=50\n",
        "train_df=train_df[df['label'].isin(dict_label[:num_class]['index'])]\n",
        "train_df.shape"
      ]
    },
    {
      "cell_type": "markdown",
      "metadata": {
        "id": "GSy9oin683Jy"
      },
      "source": [
        "# Подготовка тестовой части датасета"
      ]
    },
    {
      "cell_type": "code",
      "execution_count": null,
      "metadata": {
        "id": "Fwhb1PGj70dh"
      },
      "outputs": [],
      "source": [
        "df_test=tfds.as_dataframe(ds[0],info) \n",
        "dict_label=df_test['label'].value_counts().reset_index()\n",
        "num_class_test=dict_label.shape[0]\n",
        "num_class_test\n",
        "\n",
        "\n",
        "df_test['class']=0\n",
        "for i in range(0, len(df)):\n",
        "    df.loc[i,'class']=dict_label[dict_label['index']==df_test['label'][i]].index.values[0]\n",
        "\n",
        "print(info.features.shape)\n",
        "print(info.features.dtype)\n",
        "print(info.features['image'].shape)\n",
        "print(info.features['image'].dtype)\n",
        "\n",
        "train_df_test=df_test.copy()\n",
        "df_test=df\n",
        "\n",
        "\n",
        "num_class=50\n",
        "train_df_test=train_df_test[df_test['label'].isin(dict_label[:num_class]['index'])]\n",
        "train_df_test.shape"
      ]
    },
    {
      "cell_type": "markdown",
      "metadata": {
        "id": "j5hVkM7W8B3j"
      },
      "source": [
        "# Вспомогательные функций для работы веб-камеры в Google Colab"
      ]
    },
    {
      "cell_type": "code",
      "execution_count": null,
      "metadata": {
        "id": "77ouGAu3VWOn"
      },
      "outputs": [],
      "source": [
        "# import dependencies\n",
        "\n",
        "ar_emb=[]\n",
        "ar_names=[]  \n",
        "face_cascade = cv2.CascadeClassifier(cv2.samples.findFile(cv2.data.haarcascades + 'haarcascade_frontalface_default.xml'))\n",
        "\n",
        "# function to convert the JavaScript object into an OpenCV image\n",
        "def js_to_image(js_reply):\n",
        "  \"\"\"\n",
        "  Params:\n",
        "          js_reply: JavaScript object containing image from webcam\n",
        "  Returns:\n",
        "          img: OpenCV BGR image\n",
        "  \"\"\"\n",
        "  # decode base64 image\n",
        "  image_bytes = b64decode(js_reply.split(',')[1])\n",
        "  # convert bytes to numpy array\n",
        "  jpg_as_np = np.frombuffer(image_bytes, dtype=np.uint8)\n",
        "  # decode numpy array into OpenCV BGR image\n",
        "  img = cv2.imdecode(jpg_as_np, flags=1)\n",
        "\n",
        "  return img\n",
        "\n",
        "# function to convert OpenCV Rectangle bounding box image into base64 byte string to be overlayed on video stream\n",
        "def bbox_to_bytes(bbox_array):\n",
        "  \"\"\"\n",
        "  Params:\n",
        "          bbox_array: Numpy array (pixels) containing rectangle to overlay on video stream.\n",
        "  Returns:\n",
        "        bytes: Base64 image byte string\n",
        "  \"\"\"\n",
        "  # convert array into PIL image\n",
        "  bbox_PIL = PIL.Image.fromarray(bbox_array, 'RGBA')\n",
        "  iobuf = io.BytesIO()\n",
        "  # format bbox into png for return\n",
        "  bbox_PIL.save(iobuf, format='png')\n",
        "  # format return string\n",
        "  bbox_bytes = 'data:image/png;base64,{}'.format((str(b64encode(iobuf.getvalue()), 'utf-8')))\n",
        "\n",
        "  return bbox_bytes\n",
        "\n",
        "def take_photo(filename='photo.jpg', quality=1):\n",
        "  js = Javascript('''\n",
        "    async function takePhoto(quality) {\n",
        "      const div = document.createElement('div');\n",
        "      const capture = document.createElement('button');\n",
        "      capture.textContent = 'Capture';\n",
        "      div.appendChild(capture);\n",
        "\n",
        "      const video = document.createElement('video');\n",
        "      video.style.display = 'block';\n",
        "      const stream = await navigator.mediaDevices.getUserMedia({video: true});\n",
        "\n",
        "      document.body.appendChild(div);\n",
        "      div.appendChild(video);\n",
        "      video.srcObject = stream;\n",
        "      await video.play();\n",
        "\n",
        "      // Resize the output to fit the video element.\n",
        "      google.colab.output.setIframeHeight(document.documentElement.scrollHeight, true);\n",
        "\n",
        "      // Wait for Capture to be clicked.\n",
        "      await new Promise((resolve) => capture.onclick = resolve);\n",
        "\n",
        "      const canvas = document.createElement('canvas');\n",
        "      canvas.width = video.videoWidth;\n",
        "      canvas.height = video.videoHeight;\n",
        "      canvas.getContext('2d').drawImage(video, 0, 0);\n",
        "      stream.getVideoTracks()[0].stop();\n",
        "      div.remove();\n",
        "      return canvas.toDataURL('image/jpeg', quality);\n",
        "    }\n",
        "    ''')\n",
        "  display(js)\n",
        "\n",
        "  # get photo data\n",
        "  data = eval_js('takePhoto({})'.format(quality))\n",
        "  # get OpenCV format image\n",
        "  img = js_to_image(data) \n",
        "  # grayscale img\n",
        "  gray = cv2.cvtColor(img, cv2.COLOR_RGB2GRAY)\n",
        "  print(gray.shape)\n",
        "  # get face bounding box coordinates using Haar Cascade\n",
        "  faces = face_cascade.detectMultiScale(gray)\n",
        "  # draw face bounding box on image\n",
        "  for (x,y,w,h) in faces:\n",
        "      img = cv2.rectangle(img,(x,y),(x+w,y+h),(255,0,0),2)\n",
        "  # save image\n",
        "  cv2.imwrite(filename, img)\n",
        "\n",
        "  return filename\n",
        "\n",
        "  # JavaScript to properly create our live video stream using our webcam as input\n",
        "def video_stream():\n",
        "  js = Javascript('''\n",
        "    var video;\n",
        "    var div = null;\n",
        "    var stream;\n",
        "    var captureCanvas;\n",
        "    var imgElement;\n",
        "    var labelElement;\n",
        "    \n",
        "    var pendingResolve = null;\n",
        "    var shutdown = false;\n",
        "    \n",
        "    function removeDom() {\n",
        "       stream.getVideoTracks()[0].stop();\n",
        "       video.remove();\n",
        "       div.remove();\n",
        "       video = null;\n",
        "       div = null;\n",
        "       stream = null;\n",
        "       imgElement = null;\n",
        "       captureCanvas = null;\n",
        "       labelElement = null;\n",
        "    }\n",
        "    \n",
        "    function onAnimationFrame() {\n",
        "      if (!shutdown) {\n",
        "        window.requestAnimationFrame(onAnimationFrame);\n",
        "      }\n",
        "      if (pendingResolve) {\n",
        "        var result = \"\";\n",
        "        if (!shutdown) {\n",
        "          captureCanvas.getContext('2d').drawImage(video, 0, 0, 640, 480);\n",
        "          result = captureCanvas.toDataURL('image/jpeg', 0.8)\n",
        "        }\n",
        "        var lp = pendingResolve;\n",
        "        pendingResolve = null;\n",
        "        lp(result);\n",
        "      }\n",
        "    }\n",
        "    \n",
        "    async function createDom() {\n",
        "      if (div !== null) {\n",
        "        return stream;\n",
        "      }\n",
        "\n",
        "      div = document.createElement('div');\n",
        "      div.style.border = '2px solid black';\n",
        "      div.style.padding = '3px';\n",
        "      div.style.width = '100%';\n",
        "      div.style.maxWidth = '600px';\n",
        "      document.body.appendChild(div);\n",
        "      \n",
        "      const modelOut = document.createElement('div');\n",
        "      modelOut.innerHTML = \"<span>Status:</span>\";\n",
        "      labelElement = document.createElement('span');\n",
        "      labelElement.innerText = 'No data';\n",
        "      labelElement.style.fontWeight = 'bold';\n",
        "      modelOut.appendChild(labelElement);\n",
        "      div.appendChild(modelOut);\n",
        "           \n",
        "      video = document.createElement('video');\n",
        "      video.style.display = 'block';\n",
        "      video.width = div.clientWidth - 6;\n",
        "      video.setAttribute('playsinline', '');\n",
        "      video.onclick = () => { shutdown = true; };\n",
        "      stream = await navigator.mediaDevices.getUserMedia(\n",
        "          {video: { facingMode: \"environment\"}});\n",
        "      div.appendChild(video);\n",
        "\n",
        "      imgElement = document.createElement('img');\n",
        "      imgElement.style.position = 'absolute';\n",
        "      imgElement.style.zIndex = 1;\n",
        "      imgElement.onclick = () => { shutdown = true; };\n",
        "      div.appendChild(imgElement);\n",
        "      \n",
        "      const instruction = document.createElement('div');\n",
        "      instruction.innerHTML = \n",
        "          '<span style=\"color: green; font-weight: bold;\">';\n",
        "      div.appendChild(instruction);\n",
        "      instruction.onclick = () => { shutdown = true; };\n",
        "      \n",
        "      video.srcObject = stream;\n",
        "      await video.play();\n",
        "\n",
        "      captureCanvas = document.createElement('canvas');\n",
        "      captureCanvas.width = 640; //video.videoWidth;\n",
        "      captureCanvas.height = 480; //video.videoHeight;\n",
        "      window.requestAnimationFrame(onAnimationFrame);\n",
        "      \n",
        "      return stream;\n",
        "    }\n",
        "    async function stream_frame(label, imgData) {\n",
        "      if (shutdown) {\n",
        "        removeDom();\n",
        "        shutdown = false;\n",
        "        return '';\n",
        "      }\n",
        "\n",
        "      var preCreate = Date.now();\n",
        "      stream = await createDom();\n",
        "      \n",
        "      var preShow = Date.now();\n",
        "      if (label != \"\") {\n",
        "        labelElement.innerHTML = label;\n",
        "      }\n",
        "            \n",
        "      if (imgData != \"\") {\n",
        "        var videoRect = video.getClientRects()[0];\n",
        "        imgElement.style.top = videoRect.top + \"px\";\n",
        "        imgElement.style.left = videoRect.left + \"px\";\n",
        "        imgElement.style.width = videoRect.width + \"px\";\n",
        "        imgElement.style.height = videoRect.height + \"px\";\n",
        "        imgElement.src = imgData;\n",
        "      }\n",
        "      \n",
        "      var preCapture = Date.now();\n",
        "      var result = await new Promise(function(resolve, reject) {\n",
        "        pendingResolve = resolve;\n",
        "      });\n",
        "      shutdown = false;\n",
        "      \n",
        "      return {'create': preShow - preCreate, \n",
        "              'show': preCapture - preShow, \n",
        "              'capture': Date.now() - preCapture,\n",
        "              'img': result};\n",
        "    }\n",
        "    ''')\n",
        "\n",
        "  display(js)\n",
        "  \n",
        "def video_frame(label, bbox):\n",
        "  data = eval_js('stream_frame(\"{}\", \"{}\")'.format(label, bbox))\n",
        "  return data"
      ]
    },
    {
      "cell_type": "markdown",
      "metadata": {
        "id": "4irNa-7i8Oey"
      },
      "source": [
        "# Получение снимка лица"
      ]
    },
    {
      "cell_type": "code",
      "execution_count": null,
      "metadata": {
        "colab": {
          "base_uri": "https://localhost:8080/",
          "height": 549
        },
        "id": "4UqcyUDrFg4s",
        "outputId": "5ec2d782-98b9-4a45-9e52-f99c6c5a6d64"
      },
      "outputs": [
        {
          "output_type": "display_data",
          "data": {
            "text/plain": [
              "<IPython.core.display.Javascript object>"
            ],
            "application/javascript": [
              "\n",
              "    async function takePhoto(quality) {\n",
              "      const div = document.createElement('div');\n",
              "      const capture = document.createElement('button');\n",
              "      capture.textContent = 'Capture';\n",
              "      div.appendChild(capture);\n",
              "\n",
              "      const video = document.createElement('video');\n",
              "      video.style.display = 'block';\n",
              "      const stream = await navigator.mediaDevices.getUserMedia({video: true});\n",
              "\n",
              "      document.body.appendChild(div);\n",
              "      div.appendChild(video);\n",
              "      video.srcObject = stream;\n",
              "      await video.play();\n",
              "\n",
              "      // Resize the output to fit the video element.\n",
              "      google.colab.output.setIframeHeight(document.documentElement.scrollHeight, true);\n",
              "\n",
              "      // Wait for Capture to be clicked.\n",
              "      await new Promise((resolve) => capture.onclick = resolve);\n",
              "\n",
              "      const canvas = document.createElement('canvas');\n",
              "      canvas.width = video.videoWidth;\n",
              "      canvas.height = video.videoHeight;\n",
              "      canvas.getContext('2d').drawImage(video, 0, 0);\n",
              "      stream.getVideoTracks()[0].stop();\n",
              "      div.remove();\n",
              "      return canvas.toDataURL('image/jpeg', quality);\n",
              "    }\n",
              "    "
            ]
          },
          "metadata": {}
        },
        {
          "output_type": "stream",
          "name": "stdout",
          "text": [
            "(480, 640)\n",
            "Saved to photo.jpg\n"
          ]
        },
        {
          "output_type": "display_data",
          "data": {
            "text/plain": [
              "<IPython.core.display.Image object>"
            ],
            "image/jpeg": "[encoded data removed]"
          },
          "metadata": {}
        },
        {
          "name": "stdout",
          "output_type": "stream",
          "text": [
            "Enter the Name:Lisa\n"
          ]
        }
      ],
      "source": [
        "str_name=[]\n",
        "try:\n",
        "  filename = take_photo('photo.jpg')\n",
        "  print('Saved to {}'.format(filename))\n",
        "\n",
        "  picture_of_me = face_recognition.load_image_file(\"photo.jpg\")\n",
        "  my_face_encoding = face_recognition.face_encodings(picture_of_me)[0]\n",
        "\n",
        "  \n",
        "  # Show the image which was just taken.\n",
        "  display(Image(filename))\n",
        "  str_name = input('Enter the Name:')\n",
        "except Exception as err:\n",
        "  # Errors will be thrown if the user does not have a webcam or if they do not\n",
        "  # grant the page permission to access it.\n",
        "  print(str(err))\n",
        "finally:\n",
        "  if len(str_name)>0:\n",
        "    ar_names +=[str_name]\n",
        "    ar_emb +=[my_face_encoding]\n",
        "\n"
      ]
    },
    {
      "cell_type": "markdown",
      "metadata": {
        "id": "U5_WXMIx__Nv"
      },
      "source": [
        "# Формирование модели идентификатора"
      ]
    },
    {
      "cell_type": "code",
      "execution_count": null,
      "metadata": {
        "colab": {
          "base_uri": "https://localhost:8080/",
          "height": 494
        },
        "id": "7guKdt-lm562",
        "outputId": "50fddcba-0b46-488d-b362-f3873408286b"
      },
      "outputs": [
        {
          "output_type": "display_data",
          "data": {
            "text/plain": [
              "<IPython.core.display.Javascript object>"
            ],
            "application/javascript": [
              "\n",
              "    var video;\n",
              "    var div = null;\n",
              "    var stream;\n",
              "    var captureCanvas;\n",
              "    var imgElement;\n",
              "    var labelElement;\n",
              "    \n",
              "    var pendingResolve = null;\n",
              "    var shutdown = false;\n",
              "    \n",
              "    function removeDom() {\n",
              "       stream.getVideoTracks()[0].stop();\n",
              "       video.remove();\n",
              "       div.remove();\n",
              "       video = null;\n",
              "       div = null;\n",
              "       stream = null;\n",
              "       imgElement = null;\n",
              "       captureCanvas = null;\n",
              "       labelElement = null;\n",
              "    }\n",
              "    \n",
              "    function onAnimationFrame() {\n",
              "      if (!shutdown) {\n",
              "        window.requestAnimationFrame(onAnimationFrame);\n",
              "      }\n",
              "      if (pendingResolve) {\n",
              "        var result = \"\";\n",
              "        if (!shutdown) {\n",
              "          captureCanvas.getContext('2d').drawImage(video, 0, 0, 640, 480);\n",
              "          result = captureCanvas.toDataURL('image/jpeg', 0.8)\n",
              "        }\n",
              "        var lp = pendingResolve;\n",
              "        pendingResolve = null;\n",
              "        lp(result);\n",
              "      }\n",
              "    }\n",
              "    \n",
              "    async function createDom() {\n",
              "      if (div !== null) {\n",
              "        return stream;\n",
              "      }\n",
              "\n",
              "      div = document.createElement('div');\n",
              "      div.style.border = '2px solid black';\n",
              "      div.style.padding = '3px';\n",
              "      div.style.width = '100%';\n",
              "      div.style.maxWidth = '600px';\n",
              "      document.body.appendChild(div);\n",
              "      \n",
              "      const modelOut = document.createElement('div');\n",
              "      modelOut.innerHTML = \"<span>Status:</span>\";\n",
              "      labelElement = document.createElement('span');\n",
              "      labelElement.innerText = 'No data';\n",
              "      labelElement.style.fontWeight = 'bold';\n",
              "      modelOut.appendChild(labelElement);\n",
              "      div.appendChild(modelOut);\n",
              "           \n",
              "      video = document.createElement('video');\n",
              "      video.style.display = 'block';\n",
              "      video.width = div.clientWidth - 6;\n",
              "      video.setAttribute('playsinline', '');\n",
              "      video.onclick = () => { shutdown = true; };\n",
              "      stream = await navigator.mediaDevices.getUserMedia(\n",
              "          {video: { facingMode: \"environment\"}});\n",
              "      div.appendChild(video);\n",
              "\n",
              "      imgElement = document.createElement('img');\n",
              "      imgElement.style.position = 'absolute';\n",
              "      imgElement.style.zIndex = 1;\n",
              "      imgElement.onclick = () => { shutdown = true; };\n",
              "      div.appendChild(imgElement);\n",
              "      \n",
              "      const instruction = document.createElement('div');\n",
              "      instruction.innerHTML = \n",
              "          '<span style=\"color: green; font-weight: bold;\">';\n",
              "      div.appendChild(instruction);\n",
              "      instruction.onclick = () => { shutdown = true; };\n",
              "      \n",
              "      video.srcObject = stream;\n",
              "      await video.play();\n",
              "\n",
              "      captureCanvas = document.createElement('canvas');\n",
              "      captureCanvas.width = 640; //video.videoWidth;\n",
              "      captureCanvas.height = 480; //video.videoHeight;\n",
              "      window.requestAnimationFrame(onAnimationFrame);\n",
              "      \n",
              "      return stream;\n",
              "    }\n",
              "    async function stream_frame(label, imgData) {\n",
              "      if (shutdown) {\n",
              "        removeDom();\n",
              "        shutdown = false;\n",
              "        return '';\n",
              "      }\n",
              "\n",
              "      var preCreate = Date.now();\n",
              "      stream = await createDom();\n",
              "      \n",
              "      var preShow = Date.now();\n",
              "      if (label != \"\") {\n",
              "        labelElement.innerHTML = label;\n",
              "      }\n",
              "            \n",
              "      if (imgData != \"\") {\n",
              "        var videoRect = video.getClientRects()[0];\n",
              "        imgElement.style.top = videoRect.top + \"px\";\n",
              "        imgElement.style.left = videoRect.left + \"px\";\n",
              "        imgElement.style.width = videoRect.width + \"px\";\n",
              "        imgElement.style.height = videoRect.height + \"px\";\n",
              "        imgElement.src = imgData;\n",
              "      }\n",
              "      \n",
              "      var preCapture = Date.now();\n",
              "      var result = await new Promise(function(resolve, reject) {\n",
              "        pendingResolve = resolve;\n",
              "      });\n",
              "      shutdown = false;\n",
              "      \n",
              "      return {'create': preShow - preCreate, \n",
              "              'show': preCapture - preShow, \n",
              "              'capture': Date.now() - preCapture,\n",
              "              'img': result};\n",
              "    }\n",
              "    "
            ]
          },
          "metadata": {}
        }
      ],
      "source": [
        "# start streaming video from webcam\n",
        "video_stream()\n",
        "label_html = 'Capturing...'\n",
        "bbox = ''\n",
        "count = 0 \n",
        "while True:\n",
        "    js_reply = video_frame(label_html, bbox)\n",
        "    if not js_reply:\n",
        "        break\n",
        "\n",
        "    # convert JS response to OpenCV Image\n",
        "    img = js_to_image(js_reply[\"img\"])\n",
        "\n",
        "    ramka = np.zeros([480,640,4], dtype=np.uint8)\n",
        "\n",
        "    gray = cv2.cvtColor(img, cv2.COLOR_RGB2GRAY)\n",
        "\n",
        "\n",
        "    faces = face_cascade.detectMultiScale(gray)\n",
        "\n",
        "    for (x,y,w,h) in faces:\n",
        "      bbox_array = img[y:y+h,x:x+w,:]\n",
        "      unknown_face_encoding = face_recognition.face_encodings(bbox_array.astype('uint8'))\n",
        "      #функция идентификатора сюда\n",
        "      if len(unknown_face_encoding)>0:\n",
        "         results = face_recognition.compare_faces(ar_emb, unknown_face_encoding[0],tolerance=0.6)\n",
        "         \n",
        "\n",
        "\n",
        "         if sum(results) > 0:\n",
        "           k=np.where(results)[0]\n",
        "           s=ar_names[k[0]]\n",
        "\n",
        "         else:\n",
        "           s=\"Unknown user\"\n",
        "\n",
        "    \n",
        "\n",
        "      \n",
        "      ramka = cv2.rectangle(ramka,(x,y),(x+w,y+h),(255,0,0),2)\n",
        "      ramka=cv2.putText(ramka,s,(x,y),cv2.FONT_ITALIC,1,(255,255,255),4)\n",
        "    ramka[:,:,3] = (ramka.max(axis = 2) > 0 ).astype(int) * 255\n",
        "\n",
        "    bbox_bytes = bbox_to_bytes(ramka)\n",
        "\n",
        "    bbox = bbox_bytes\n"
      ]
    },
    {
      "cell_type": "code",
      "execution_count": null,
      "metadata": {
        "id": "Jgt93cULevcV"
      },
      "outputs": [],
      "source": [
        "def neur_par(X):\n",
        "\n",
        "    k1,k2,k3,emb,marg,batch,num_ep,learn_rate=X\n",
        "        \n",
        "   \n",
        "    optimizer = tf.keras.optimizers.Adam(learn_rate)\n",
        "        \n",
        "    def contastive_loss(embs, labels):\n",
        "       # print(embs,labels)\n",
        "        bs = embs.shape[0]\n",
        "        embs1 = embs[:bs//2, :]\n",
        "   \n",
        "        embs2 = embs[bs//2:, :]\n",
        "        labels1 = labels[:bs//2]\n",
        "        labels2 = labels[bs//2:]\n",
        "        #print(labels1,labels2)\n",
        "        d2 = tf.reduce_sum(tf.square(embs1 - embs2), axis=1)\n",
        "        d =  tf.sqrt(d2)\n",
        "        z = tf.cast(labels1 == labels2, tf.float32)\n",
        "    \n",
        "    \n",
        "        return tf.reduce_mean(z *d2 + (1-z) * tf.maximum(0, marg - d)**2)\n",
        "    \n",
        "    #model двигать по слоям и ядрам и емб сайз т.е искать гипермаметры оставлять макс пулинг все остальное как элементы особи и использовать для того чтобы определить наилучшую архитектуру gridsearch цикл где меняются парам и как они влияют\n",
        "    model = tf.keras.models.Sequential([\n",
        "        tf.keras.layers.Conv2D(k1, (5, 5), padding='same', activation='relu'),\n",
        "        tf.keras.layers.MaxPool2D((2, 2), (2, 2)),\n",
        "        tf.keras.layers.Conv2D(k2, (5, 5), padding='same', activation='relu'),\n",
        "        tf.keras.layers.MaxPool2D((2, 2), (2, 2)),\n",
        "        tf.keras.layers.Flatten(),\n",
        "        tf.keras.layers.Dense(k3, activation='relu'),\n",
        "        tf.keras.layers.Dropout(0.5),\n",
        "        tf.keras.layers.Dense(emb, activation=None),\n",
        "        ])\n",
        "    \n",
        "\n",
        "    def normalize_img(image,label):\n",
        "    \n",
        "       return tf.image.resize(tf.cast(image, tf.float32) / 255.,[128,128]),label \n",
        "\n",
        "\n",
        "    for k in range(num_ep):\n",
        "        for i in range(train_df.shape[0]-batch):#хороший\n",
        "            images=train_df.iloc[i:i+batch:,0].values\n",
        "            images=tf.image.resize(tf.cast(np.array([I for I in images]), tf.float32) / 255.,[128,128]) \n",
        "            labels=train_df.iloc[i:i+batch:,2].values\n",
        "            with tf.GradientTape() as tape:\n",
        "                embs = model(images)\n",
        "                loss_value = contastive_loss(embs, labels)\n",
        "            grads = tape.gradient(loss_value, model.variables)\n",
        "            optimizer.apply_gradients(zip(grads, model.variables))\n",
        "            if i % 200 == 0:\n",
        "                if loss_value.numpy()!=0:\n",
        "                    print('[{}] Loss: {}'.format(i, loss_value.numpy()))\n",
        "    return model\n",
        "     "
      ]
    },
    {
      "cell_type": "markdown",
      "metadata": {
        "id": "ZLsgofYfAq8G"
      },
      "source": [
        "# Алгоритм \"Монте-Карло\""
      ]
    },
    {
      "cell_type": "code",
      "execution_count": null,
      "metadata": {
        "id": "jp-0Z4ADfWeA"
      },
      "outputs": [],
      "source": [
        "import random\n",
        "from random import shuffle\n",
        "k1 = [8, 16, 32, 64]\n",
        "random.shuffle(k1)\n",
        "k2 = [8, 16, 32, 64, 128]\n",
        "random.shuffle(k2)\n",
        "k3 = [64, 128, 256, 512, 1024]\n",
        "random.shuffle(k3)\n",
        "emb = [10, 20, 30, 40, 50]\n",
        "random.shuffle(emb)\n",
        "marg = [2, 4, 6, 8, 10]\n",
        "random.shuffle(marg)\n",
        "batch = [2, 4, 6, 8, 10, 12, 14]\n",
        "random.shuffle(batch)\n",
        "num_ep = [1, 2, 3, 4, 5]\n",
        "random.shuffle(num_ep)\n",
        "learn_rate = [0.0001, 0.001, 0.01, 0.1, 1]\n",
        "random.shuffle(learn_rate)\n",
        "#random.choice(num_ep)\n"
      ]
    },
    {
      "cell_type": "code",
      "execution_count": null,
      "metadata": {
        "id": "BQJgQMVK9uMK"
      },
      "outputs": [],
      "source": [
        "#for i in range(1):\n",
        "x=[random.choice(k1), random.choice(k2),random.choice(k3), random.choice(emb), random.choice(marg), random.choice(batch), 1, random.choice(learn_rate)]\n",
        "print(x)  \n",
        "model = neur_par(x)"
      ]
    },
    {
      "cell_type": "code",
      "execution_count": null,
      "metadata": {
        "id": "M-JHOIXd3TvJ"
      },
      "outputs": [],
      "source": [
        "x=[16,32,64,30,6,8,1,0.001]  #комба хороша\n",
        "model = neur_par(x)"
      ]
    },
    {
      "cell_type": "markdown",
      "metadata": {
        "id": "rgwiMn7Z95WZ"
      },
      "source": [
        "# Генетический алгоритм"
      ]
    },
    {
      "cell_type": "code",
      "execution_count": null,
      "metadata": {
        "id": "qYcs3HCw92_D"
      },
      "outputs": [],
      "source": [
        "def gen_alg(x, f, k1, k2, d):\n",
        "  from random import randint\n",
        "  #x-популяция\n",
        "  #f-фитнес функция\n",
        "  #k1-размер мутированной популяции\n",
        "  #k2-число мутаций\n",
        "  #d-интервал изменения свойств\n",
        "  n=len(x) # число членов популяции\n",
        "  p=[]\n",
        "  for i in range(0,n,1):\n",
        "    p.append(f(i)/sum(f))#вероятность выбора особи\n",
        "  p_min=min(p)\n",
        "  c=round(p/p_min)\n",
        "  r=[]\n",
        "  for i in range(0,n,1):\n",
        "    r=[r, i*np.ones(1,c(i))]#ожидаемое число копий\n",
        "  for i in range(0,k1,1):\n",
        "    ind=r(randint(len(r)))\n",
        "    p_big=\n",
        "\n"
      ]
    },
    {
      "cell_type": "code",
      "execution_count": null,
      "metadata": {
        "id": "gmhFAZYpBspC"
      },
      "outputs": [],
      "source": [
        "a=[15,1,1,1,1,1,5,1,1,1,1]\n",
        "d=len(a)\n",
        "q=[]\n",
        "for i in range(0,d,1):\n",
        "  q.append(a[i])\n",
        "q\n",
        "np.ones(5)"
      ]
    },
    {
      "cell_type": "markdown",
      "metadata": {
        "id": "o2mt1ZtrBgB-"
      },
      "source": [
        "# Детектирование с помощью обученной модели"
      ]
    },
    {
      "cell_type": "code",
      "execution_count": null,
      "metadata": {
        "id": "qdj9kMoN0aum"
      },
      "outputs": [],
      "source": [
        "\n",
        "def model_test(model,x,y):\n",
        "  \n",
        "#x-картинки\n",
        "#y-имена картинок\n",
        "\n",
        "    emb = model(x)\n",
        "#список пар\n",
        "    label_0 = [];\n",
        "    label_1 = [];\n",
        "    dif_0 = []\n",
        "    dif_1 = []\n",
        "    for i,iy in enumerate(y):\n",
        "      for j,jy in enumerate(y[i+1:]):\n",
        "        if iy == jy:\n",
        "          label_1 += [[i,j+i+1]]\n",
        "        else:\n",
        "           label_0 += [[i,j+i+1]]\n",
        "\n",
        "      #print('Metki_0')\n",
        "      print(label_0)\n",
        "      #print('Metki_1')\n",
        "      #print(label_1)\n",
        "      try:\n",
        "        i = np.random.randint(0,len(label_0),(100,))\t \n",
        "      except:\n",
        "        print(\"не отрабатывает первая \")\n",
        "      try:\n",
        "        j = np.random.randint(0,len(label_1),(100,))\n",
        "      except:\n",
        "        print(\"не отррабатывает вторая \")\n",
        "      for k in range(100):\n",
        "        ik,jk = label_0[i[k]]\n",
        "        #print(i)\n",
        "        #print(j)\n",
        "        #print(label_1)\n",
        "        print(label_0)\n",
        "        dif_0 += [np.linalg.norm(emb[ik,:] - emb[jk,:])]\n",
        "        ik,jk = label_1[j[k]]\n",
        "        dif_1 += [np.linalg.norm(emb[ik,:] - emb[jk,:])]\n",
        "        #print(dif_1)\n",
        "        #print(dif_0)\n",
        "    return dif_0, dif_1\n",
        " #средняя, дисперсия, разница между средними/наибольшую из дисперсий(сумму дисп)\n",
        "list_check = os.listdir()\n",
        "met = []\n",
        "list_label = []\n",
        "\n",
        "for filename in list_check[2:7]:\n",
        "  image = tf.io.read_file(filename)\n",
        "  image = tf.io.decode_jpeg(image)\n",
        "  image = tf.image.convert_image_dtype(image, tf.float32)\n",
        "  image = tf.image.resize(image, [128, 128])\n",
        "  met += [image]\n",
        "  list_label += [filename[:4]]\n",
        "\n",
        "d1,d0 = model_test(model,tf.cast(met,dtype = tf.float32),list_label)\n",
        "\n",
        "m_mean = abs((np.mean(d0) - np.mean(d1)))/np.std(d0)# вот это фитнес\n",
        "print(m_mean)\n"
      ]
    },
    {
      "cell_type": "code",
      "execution_count": null,
      "metadata": {
        "id": "SntQPiwhw6Tr"
      },
      "outputs": [],
      "source": [
        "#list_label\n",
        "#list_check\n",
        "ik\n",
        "jk"
      ]
    },
    {
      "cell_type": "code",
      "execution_count": null,
      "metadata": {
        "id": "RgFN8h6OryDR"
      },
      "outputs": [],
      "source": [
        "list_check = os.listdir()\n",
        "met = []\n",
        "list_label = []\n",
        "\n",
        "for filename in list_check[2:3]:\n",
        "  image = tf.io.read_file(filename)\n",
        "  image = tf.io.decode_jpeg(image)\n",
        "  image = tf.image.convert_image_dtype(image, tf.float32)\n",
        "  image = tf.image.resize(image, [128, 128])\n",
        "  met += [image]\n",
        "  list_label += [filename[:2]]\n",
        "\n",
        "d1,d0 = model_test(model,tf.cast(met,dtype = tf.float32),list_label)\n",
        "\n",
        "m_mean = abs((np.mean(d0) - np.mean(d1)))/np.std(d0)# вот это фитнес\n",
        "print(m_mean)\n",
        "\n",
        "\n",
        "#выдернуть номера меток - метод items у словаря"
      ]
    },
    {
      "cell_type": "code",
      "execution_count": null,
      "metadata": {
        "id": "tmWLW38jnsK7"
      },
      "outputs": [],
      "source": [
        "list_check"
      ]
    },
    {
      "cell_type": "markdown",
      "metadata": {
        "id": "zOE8lKv6Bqie"
      },
      "source": [
        "# Сохранение модели"
      ]
    },
    {
      "cell_type": "code",
      "execution_count": null,
      "metadata": {
        "id": "OUv7LCD0Qxo5"
      },
      "outputs": [],
      "source": [
        "model.save_weights('model_weight_1.h5')\n",
        "model.save('model_weight_1.hdf5')"
      ]
    },
    {
      "cell_type": "markdown",
      "metadata": {
        "id": "MjPiy5gk8tfa"
      },
      "source": [
        "# Обрезки"
      ]
    },
    {
      "cell_type": "code",
      "execution_count": null,
      "metadata": {
        "id": "k9gewNr5Ih9r"
      },
      "outputs": [],
      "source": [
        "embd_class0=[]\n",
        "embd_class1=[]\n",
        "embd_class2=[]\n",
        "for i in lab:\n",
        "    if lab[i].numpy()==0:\n",
        "        embd_class0.append(emb[i])\n",
        "    elif lab[i].numpy()==1:\n",
        "        embd_class1.append(emb[i])\n",
        "    elif lab[i].numpy()==2:\n",
        "        embd_class2.append(emb[i])    "
      ]
    },
    {
      "cell_type": "code",
      "execution_count": null,
      "metadata": {
        "id": "IUbE7gqDIh9r"
      },
      "outputs": [],
      "source": [
        "mt=[]\n",
        "l_class=0\n",
        "for i in [embd_class0, embd_class1, embd_class2]:\n",
        "    for embeding in i:\n",
        "        mt.append(diff(embeding, test_emb))\n",
        "    print(f'{dict_label[\"index\"][l_class]} <-> J Bush: {np.mean(mt)}')\n",
        "    l_class+=1"
      ]
    }
  ],
  "metadata": {
    "accelerator": "GPU",
    "colab": {
      "collapsed_sections": [
        "5PbqVdEW_bJf",
        "GSy9oin683Jy",
        "j5hVkM7W8B3j",
        "zOE8lKv6Bqie",
        "MjPiy5gk8tfa"
      ],
      "provenance": [],
      "toc_visible": true
    },
    "kernelspec": {
      "display_name": "Python 3",
      "language": "python",
      "name": "python3"
    },
    "language_info": {
      "codemirror_mode": {
        "name": "ipython",
        "version": 3
      },
      "file_extension": ".py",
      "mimetype": "text/x-python",
      "name": "python",
      "nbconvert_exporter": "python",
      "pygments_lexer": "ipython3",
      "version": "3.7.3"
    }
  },
  "nbformat": 4,
  "nbformat_minor": 0
}